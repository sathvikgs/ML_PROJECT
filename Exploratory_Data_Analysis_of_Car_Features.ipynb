{
  "nbformat": 4,
  "nbformat_minor": 0,
  "metadata": {
    "colab": {
      "name": "Exploratory Data Analysis of Car Features.ipynb",
      "provenance": [],
      "collapsed_sections": [
        "xT9BbABt0zwm",
        "cGuIQP5O7Wm8",
        "TZclY2XL9FDS",
        "iVYsTI-_vkVY",
        "dowcFHs532ql",
        "yLU-eii-gW_S",
        "K6g_6sDk0QyY",
        "QD1eKni41Zar",
        "YsAQpFks6Iny",
        "KH6fFHQDU5-a"
      ],
      "toc_visible": true,
      "authorship_tag": "ABX9TyNpapGjvYW+yarDHHR79Kco",
      "include_colab_link": true
    },
    "kernelspec": {
      "name": "python3",
      "display_name": "Python 3"
    }
  },
  "cells": [
    {
      "cell_type": "markdown",
      "metadata": {
        "id": "view-in-github",
        "colab_type": "text"
      },
      "source": [
        "<a href=\"https://colab.research.google.com/github/sathvikgs/ML_PROJECT/blob/master/Exploratory_Data_Analysis_of_Car_Features.ipynb\" target=\"_parent\"><img src=\"https://colab.research.google.com/assets/colab-badge.svg\" alt=\"Open In Colab\"/></a>"
      ]
    },
    {
      "cell_type": "markdown",
      "metadata": {
        "id": "KoM8fb7WxnUb",
        "colab_type": "text"
      },
      "source": [
        "**EXPLORATORY DATA ANALYSIS :**\n",
        "EXPLORATORY DATA ANALYSIS OR EDA IS THE FIRST AND FOREMOST OF ALL TASKS THAT A DATASET GOES THROUGH. IT LETS US UNDERSTAND THE DATA AND THUS HELPS US TO PREPARE IT FOR THE UPCOMING TASKS."
      ]
    },
    {
      "cell_type": "markdown",
      "metadata": {
        "id": "poGMJOXMykJf",
        "colab_type": "text"
      },
      "source": [
        "* **OBJECTIVE -** EXPLORING THE DATA , PERFORMING EDA AND MAKING IT READY FOR MODELLING "
      ]
    },
    {
      "cell_type": "markdown",
      "metadata": {
        "id": "xT9BbABt0zwm",
        "colab_type": "text"
      },
      "source": [
        "## 1 - IMPORTING LIBRARIES AND DATASET AND CHECKING THE DATA"
      ]
    },
    {
      "cell_type": "code",
      "metadata": {
        "id": "rlr1Iiai1ELo",
        "colab_type": "code",
        "colab": {}
      },
      "source": [
        "#IMPORTING THE LIBRARIES\n",
        "import numpy as np\n",
        "import pandas as pd\n",
        "import matplotlib.pyplot as plt    #VISUALISATION\n",
        "import seaborn as sns              #VISUALISATION "
      ],
      "execution_count": null,
      "outputs": []
    },
    {
      "cell_type": "code",
      "metadata": {
        "id": "xwPJHX981lb6",
        "colab_type": "code",
        "colab": {}
      },
      "source": [
        "#IMPORTING THE DATASET\n",
        "data=pd.read_csv(\"data.csv\")"
      ],
      "execution_count": null,
      "outputs": []
    },
    {
      "cell_type": "code",
      "metadata": {
        "id": "H31Y7rvt0YlR",
        "colab_type": "code",
        "colab": {
          "base_uri": "https://localhost:8080/",
          "height": 417
        },
        "outputId": "edb0bde4-fcf6-4bbd-beac-0593496fd3de"
      },
      "source": [
        "#DISPLAYING THE 5 ROWS OF DATA\n",
        "data.head()"
      ],
      "execution_count": null,
      "outputs": [
        {
          "output_type": "execute_result",
          "data": {
            "text/html": [
              "<div>\n",
              "<style scoped>\n",
              "    .dataframe tbody tr th:only-of-type {\n",
              "        vertical-align: middle;\n",
              "    }\n",
              "\n",
              "    .dataframe tbody tr th {\n",
              "        vertical-align: top;\n",
              "    }\n",
              "\n",
              "    .dataframe thead th {\n",
              "        text-align: right;\n",
              "    }\n",
              "</style>\n",
              "<table border=\"1\" class=\"dataframe\">\n",
              "  <thead>\n",
              "    <tr style=\"text-align: right;\">\n",
              "      <th></th>\n",
              "      <th>Make</th>\n",
              "      <th>Model</th>\n",
              "      <th>Year</th>\n",
              "      <th>Engine Fuel Type</th>\n",
              "      <th>Engine HP</th>\n",
              "      <th>Engine Cylinders</th>\n",
              "      <th>Transmission Type</th>\n",
              "      <th>Driven_Wheels</th>\n",
              "      <th>Number of Doors</th>\n",
              "      <th>Market Category</th>\n",
              "      <th>Vehicle Size</th>\n",
              "      <th>Vehicle Style</th>\n",
              "      <th>highway MPG</th>\n",
              "      <th>city mpg</th>\n",
              "      <th>Popularity</th>\n",
              "      <th>MSRP</th>\n",
              "    </tr>\n",
              "  </thead>\n",
              "  <tbody>\n",
              "    <tr>\n",
              "      <th>0</th>\n",
              "      <td>BMW</td>\n",
              "      <td>1 Series M</td>\n",
              "      <td>2011</td>\n",
              "      <td>premium unleaded (required)</td>\n",
              "      <td>335.0</td>\n",
              "      <td>6.0</td>\n",
              "      <td>MANUAL</td>\n",
              "      <td>rear wheel drive</td>\n",
              "      <td>2.0</td>\n",
              "      <td>Factory Tuner,Luxury,High-Performance</td>\n",
              "      <td>Compact</td>\n",
              "      <td>Coupe</td>\n",
              "      <td>26</td>\n",
              "      <td>19</td>\n",
              "      <td>3916</td>\n",
              "      <td>46135</td>\n",
              "    </tr>\n",
              "    <tr>\n",
              "      <th>1</th>\n",
              "      <td>BMW</td>\n",
              "      <td>1 Series</td>\n",
              "      <td>2011</td>\n",
              "      <td>premium unleaded (required)</td>\n",
              "      <td>300.0</td>\n",
              "      <td>6.0</td>\n",
              "      <td>MANUAL</td>\n",
              "      <td>rear wheel drive</td>\n",
              "      <td>2.0</td>\n",
              "      <td>Luxury,Performance</td>\n",
              "      <td>Compact</td>\n",
              "      <td>Convertible</td>\n",
              "      <td>28</td>\n",
              "      <td>19</td>\n",
              "      <td>3916</td>\n",
              "      <td>40650</td>\n",
              "    </tr>\n",
              "    <tr>\n",
              "      <th>2</th>\n",
              "      <td>BMW</td>\n",
              "      <td>1 Series</td>\n",
              "      <td>2011</td>\n",
              "      <td>premium unleaded (required)</td>\n",
              "      <td>300.0</td>\n",
              "      <td>6.0</td>\n",
              "      <td>MANUAL</td>\n",
              "      <td>rear wheel drive</td>\n",
              "      <td>2.0</td>\n",
              "      <td>Luxury,High-Performance</td>\n",
              "      <td>Compact</td>\n",
              "      <td>Coupe</td>\n",
              "      <td>28</td>\n",
              "      <td>20</td>\n",
              "      <td>3916</td>\n",
              "      <td>36350</td>\n",
              "    </tr>\n",
              "    <tr>\n",
              "      <th>3</th>\n",
              "      <td>BMW</td>\n",
              "      <td>1 Series</td>\n",
              "      <td>2011</td>\n",
              "      <td>premium unleaded (required)</td>\n",
              "      <td>230.0</td>\n",
              "      <td>6.0</td>\n",
              "      <td>MANUAL</td>\n",
              "      <td>rear wheel drive</td>\n",
              "      <td>2.0</td>\n",
              "      <td>Luxury,Performance</td>\n",
              "      <td>Compact</td>\n",
              "      <td>Coupe</td>\n",
              "      <td>28</td>\n",
              "      <td>18</td>\n",
              "      <td>3916</td>\n",
              "      <td>29450</td>\n",
              "    </tr>\n",
              "    <tr>\n",
              "      <th>4</th>\n",
              "      <td>BMW</td>\n",
              "      <td>1 Series</td>\n",
              "      <td>2011</td>\n",
              "      <td>premium unleaded (required)</td>\n",
              "      <td>230.0</td>\n",
              "      <td>6.0</td>\n",
              "      <td>MANUAL</td>\n",
              "      <td>rear wheel drive</td>\n",
              "      <td>2.0</td>\n",
              "      <td>Luxury</td>\n",
              "      <td>Compact</td>\n",
              "      <td>Convertible</td>\n",
              "      <td>28</td>\n",
              "      <td>18</td>\n",
              "      <td>3916</td>\n",
              "      <td>34500</td>\n",
              "    </tr>\n",
              "  </tbody>\n",
              "</table>\n",
              "</div>"
            ],
            "text/plain": [
              "  Make       Model  Year  ... city mpg  Popularity   MSRP\n",
              "0  BMW  1 Series M  2011  ...       19        3916  46135\n",
              "1  BMW    1 Series  2011  ...       19        3916  40650\n",
              "2  BMW    1 Series  2011  ...       20        3916  36350\n",
              "3  BMW    1 Series  2011  ...       18        3916  29450\n",
              "4  BMW    1 Series  2011  ...       18        3916  34500\n",
              "\n",
              "[5 rows x 16 columns]"
            ]
          },
          "metadata": {
            "tags": []
          },
          "execution_count": 3
        }
      ]
    },
    {
      "cell_type": "code",
      "metadata": {
        "id": "TP14pYx82OyU",
        "colab_type": "code",
        "colab": {
          "base_uri": "https://localhost:8080/",
          "height": 302
        },
        "outputId": "5f05b1b6-c353-4f24-a319-c52d602d548b"
      },
      "source": [
        "#CHECKING THE DATATYPES OF DATA\n",
        "data.dtypes"
      ],
      "execution_count": null,
      "outputs": [
        {
          "output_type": "execute_result",
          "data": {
            "text/plain": [
              "Make                  object\n",
              "Model                 object\n",
              "Year                   int64\n",
              "Engine Fuel Type      object\n",
              "Engine HP            float64\n",
              "Engine Cylinders     float64\n",
              "Transmission Type     object\n",
              "Driven_Wheels         object\n",
              "Number of Doors      float64\n",
              "Market Category       object\n",
              "Vehicle Size          object\n",
              "Vehicle Style         object\n",
              "highway MPG            int64\n",
              "city mpg               int64\n",
              "Popularity             int64\n",
              "MSRP                   int64\n",
              "dtype: object"
            ]
          },
          "metadata": {
            "tags": []
          },
          "execution_count": 4
        }
      ]
    },
    {
      "cell_type": "code",
      "metadata": {
        "id": "YRrmuHYQ2vSZ",
        "colab_type": "code",
        "colab": {
          "base_uri": "https://localhost:8080/",
          "height": 403
        },
        "outputId": "f291193a-dae7-4095-d2dc-c8f9a062fa00"
      },
      "source": [
        "#TO IDENTIFY THE TYPE OF DATA\n",
        "data.info()"
      ],
      "execution_count": null,
      "outputs": [
        {
          "output_type": "stream",
          "text": [
            "<class 'pandas.core.frame.DataFrame'>\n",
            "RangeIndex: 11914 entries, 0 to 11913\n",
            "Data columns (total 16 columns):\n",
            " #   Column             Non-Null Count  Dtype  \n",
            "---  ------             --------------  -----  \n",
            " 0   Make               11914 non-null  object \n",
            " 1   Model              11914 non-null  object \n",
            " 2   Year               11914 non-null  int64  \n",
            " 3   Engine Fuel Type   11911 non-null  object \n",
            " 4   Engine HP          11845 non-null  float64\n",
            " 5   Engine Cylinders   11884 non-null  float64\n",
            " 6   Transmission Type  11914 non-null  object \n",
            " 7   Driven_Wheels      11914 non-null  object \n",
            " 8   Number of Doors    11908 non-null  float64\n",
            " 9   Market Category    8172 non-null   object \n",
            " 10  Vehicle Size       11914 non-null  object \n",
            " 11  Vehicle Style      11914 non-null  object \n",
            " 12  highway MPG        11914 non-null  int64  \n",
            " 13  city mpg           11914 non-null  int64  \n",
            " 14  Popularity         11914 non-null  int64  \n",
            " 15  MSRP               11914 non-null  int64  \n",
            "dtypes: float64(3), int64(5), object(8)\n",
            "memory usage: 1.5+ MB\n"
          ],
          "name": "stdout"
        }
      ]
    },
    {
      "cell_type": "code",
      "metadata": {
        "id": "c-XXMTXQ226D",
        "colab_type": "code",
        "colab": {
          "base_uri": "https://localhost:8080/",
          "height": 34
        },
        "outputId": "1aa8fef6-c0a2-4986-ceb3-94b8b3adaacd"
      },
      "source": [
        "#CHECKING THE SHAPE OF DATA\n",
        "data.shape"
      ],
      "execution_count": null,
      "outputs": [
        {
          "output_type": "execute_result",
          "data": {
            "text/plain": [
              "(11914, 16)"
            ]
          },
          "metadata": {
            "tags": []
          },
          "execution_count": 6
        }
      ]
    },
    {
      "cell_type": "code",
      "metadata": {
        "id": "Fr7fY24P28ME",
        "colab_type": "code",
        "colab": {
          "base_uri": "https://localhost:8080/",
          "height": 284
        },
        "outputId": "e4ab82c3-b2a3-4685-e273-e1785e05a2b0"
      },
      "source": [
        "#STATISTICAL SUMMARY OF DATA\n",
        "data.describe()"
      ],
      "execution_count": null,
      "outputs": [
        {
          "output_type": "execute_result",
          "data": {
            "text/html": [
              "<div>\n",
              "<style scoped>\n",
              "    .dataframe tbody tr th:only-of-type {\n",
              "        vertical-align: middle;\n",
              "    }\n",
              "\n",
              "    .dataframe tbody tr th {\n",
              "        vertical-align: top;\n",
              "    }\n",
              "\n",
              "    .dataframe thead th {\n",
              "        text-align: right;\n",
              "    }\n",
              "</style>\n",
              "<table border=\"1\" class=\"dataframe\">\n",
              "  <thead>\n",
              "    <tr style=\"text-align: right;\">\n",
              "      <th></th>\n",
              "      <th>Year</th>\n",
              "      <th>Engine HP</th>\n",
              "      <th>Engine Cylinders</th>\n",
              "      <th>Number of Doors</th>\n",
              "      <th>highway MPG</th>\n",
              "      <th>city mpg</th>\n",
              "      <th>Popularity</th>\n",
              "      <th>MSRP</th>\n",
              "    </tr>\n",
              "  </thead>\n",
              "  <tbody>\n",
              "    <tr>\n",
              "      <th>count</th>\n",
              "      <td>11914.000000</td>\n",
              "      <td>11845.00000</td>\n",
              "      <td>11884.000000</td>\n",
              "      <td>11908.000000</td>\n",
              "      <td>11914.000000</td>\n",
              "      <td>11914.000000</td>\n",
              "      <td>11914.000000</td>\n",
              "      <td>1.191400e+04</td>\n",
              "    </tr>\n",
              "    <tr>\n",
              "      <th>mean</th>\n",
              "      <td>2010.384338</td>\n",
              "      <td>249.38607</td>\n",
              "      <td>5.628829</td>\n",
              "      <td>3.436093</td>\n",
              "      <td>26.637485</td>\n",
              "      <td>19.733255</td>\n",
              "      <td>1554.911197</td>\n",
              "      <td>4.059474e+04</td>\n",
              "    </tr>\n",
              "    <tr>\n",
              "      <th>std</th>\n",
              "      <td>7.579740</td>\n",
              "      <td>109.19187</td>\n",
              "      <td>1.780559</td>\n",
              "      <td>0.881315</td>\n",
              "      <td>8.863001</td>\n",
              "      <td>8.987798</td>\n",
              "      <td>1441.855347</td>\n",
              "      <td>6.010910e+04</td>\n",
              "    </tr>\n",
              "    <tr>\n",
              "      <th>min</th>\n",
              "      <td>1990.000000</td>\n",
              "      <td>55.00000</td>\n",
              "      <td>0.000000</td>\n",
              "      <td>2.000000</td>\n",
              "      <td>12.000000</td>\n",
              "      <td>7.000000</td>\n",
              "      <td>2.000000</td>\n",
              "      <td>2.000000e+03</td>\n",
              "    </tr>\n",
              "    <tr>\n",
              "      <th>25%</th>\n",
              "      <td>2007.000000</td>\n",
              "      <td>170.00000</td>\n",
              "      <td>4.000000</td>\n",
              "      <td>2.000000</td>\n",
              "      <td>22.000000</td>\n",
              "      <td>16.000000</td>\n",
              "      <td>549.000000</td>\n",
              "      <td>2.100000e+04</td>\n",
              "    </tr>\n",
              "    <tr>\n",
              "      <th>50%</th>\n",
              "      <td>2015.000000</td>\n",
              "      <td>227.00000</td>\n",
              "      <td>6.000000</td>\n",
              "      <td>4.000000</td>\n",
              "      <td>26.000000</td>\n",
              "      <td>18.000000</td>\n",
              "      <td>1385.000000</td>\n",
              "      <td>2.999500e+04</td>\n",
              "    </tr>\n",
              "    <tr>\n",
              "      <th>75%</th>\n",
              "      <td>2016.000000</td>\n",
              "      <td>300.00000</td>\n",
              "      <td>6.000000</td>\n",
              "      <td>4.000000</td>\n",
              "      <td>30.000000</td>\n",
              "      <td>22.000000</td>\n",
              "      <td>2009.000000</td>\n",
              "      <td>4.223125e+04</td>\n",
              "    </tr>\n",
              "    <tr>\n",
              "      <th>max</th>\n",
              "      <td>2017.000000</td>\n",
              "      <td>1001.00000</td>\n",
              "      <td>16.000000</td>\n",
              "      <td>4.000000</td>\n",
              "      <td>354.000000</td>\n",
              "      <td>137.000000</td>\n",
              "      <td>5657.000000</td>\n",
              "      <td>2.065902e+06</td>\n",
              "    </tr>\n",
              "  </tbody>\n",
              "</table>\n",
              "</div>"
            ],
            "text/plain": [
              "               Year    Engine HP  ...    Popularity          MSRP\n",
              "count  11914.000000  11845.00000  ...  11914.000000  1.191400e+04\n",
              "mean    2010.384338    249.38607  ...   1554.911197  4.059474e+04\n",
              "std        7.579740    109.19187  ...   1441.855347  6.010910e+04\n",
              "min     1990.000000     55.00000  ...      2.000000  2.000000e+03\n",
              "25%     2007.000000    170.00000  ...    549.000000  2.100000e+04\n",
              "50%     2015.000000    227.00000  ...   1385.000000  2.999500e+04\n",
              "75%     2016.000000    300.00000  ...   2009.000000  4.223125e+04\n",
              "max     2017.000000   1001.00000  ...   5657.000000  2.065902e+06\n",
              "\n",
              "[8 rows x 8 columns]"
            ]
          },
          "metadata": {
            "tags": []
          },
          "execution_count": 7
        }
      ]
    },
    {
      "cell_type": "code",
      "metadata": {
        "id": "F9my9ZF028Bv",
        "colab_type": "code",
        "colab": {
          "base_uri": "https://localhost:8080/",
          "height": 302
        },
        "outputId": "fa93c539-e8e2-4316-8cb1-193eb272380e"
      },
      "source": [
        "#CHECKING FOR NULL VALUES IN DATA\n",
        "data.isnull().sum()"
      ],
      "execution_count": null,
      "outputs": [
        {
          "output_type": "execute_result",
          "data": {
            "text/plain": [
              "Make                    0\n",
              "Model                   0\n",
              "Year                    0\n",
              "Engine Fuel Type        3\n",
              "Engine HP              69\n",
              "Engine Cylinders       30\n",
              "Transmission Type       0\n",
              "Driven_Wheels           0\n",
              "Number of Doors         6\n",
              "Market Category      3742\n",
              "Vehicle Size            0\n",
              "Vehicle Style           0\n",
              "highway MPG             0\n",
              "city mpg                0\n",
              "Popularity              0\n",
              "MSRP                    0\n",
              "dtype: int64"
            ]
          },
          "metadata": {
            "tags": []
          },
          "execution_count": 8
        }
      ]
    },
    {
      "cell_type": "markdown",
      "metadata": {
        "id": "cGuIQP5O7Wm8",
        "colab_type": "text"
      },
      "source": [
        "## 2 - REMOVING IRRELEVANT COLUMNS"
      ]
    },
    {
      "cell_type": "code",
      "metadata": {
        "id": "DbU8LOZa7h_M",
        "colab_type": "code",
        "colab": {}
      },
      "source": [
        "#DROPPING THE COLUMNS OF DATA\n",
        "data=data.drop(columns=[\"Market Category\",\"Engine Fuel Type\", \"Number of Doors\",\"Popularity\",\"Model\",\"Year\"],axis=1)"
      ],
      "execution_count": null,
      "outputs": []
    },
    {
      "cell_type": "markdown",
      "metadata": {
        "id": "mH1lIMT8iPki",
        "colab_type": "text"
      },
      "source": [
        "* THESE FEATURES DO NOT CONTRIBUTE TO THE PREDICTION OF THE PRICE.\n",
        "* MARKET CATEGORY CAN BE REMOVED SINCE IT HAS MANY NULL VALUES.\n",
        "* THE BRAND OF THE CAR IS IMPORTANT AND NOT THE MODEL."
      ]
    },
    {
      "cell_type": "code",
      "metadata": {
        "id": "oOHfg2lG8CV7",
        "colab_type": "code",
        "colab": {
          "base_uri": "https://localhost:8080/"
        },
        "outputId": "adc00cac-6c30-4eb6-9150-b0a42658772f"
      },
      "source": [
        "#DISPLAYING THE DATA AFTER REMOVING THE COLUMNS\n",
        "data.head() "
      ],
      "execution_count": null,
      "outputs": [
        {
          "output_type": "execute_result",
          "data": {
            "text/html": [
              "<div>\n",
              "<style scoped>\n",
              "    .dataframe tbody tr th:only-of-type {\n",
              "        vertical-align: middle;\n",
              "    }\n",
              "\n",
              "    .dataframe tbody tr th {\n",
              "        vertical-align: top;\n",
              "    }\n",
              "\n",
              "    .dataframe thead th {\n",
              "        text-align: right;\n",
              "    }\n",
              "</style>\n",
              "<table border=\"1\" class=\"dataframe\">\n",
              "  <thead>\n",
              "    <tr style=\"text-align: right;\">\n",
              "      <th></th>\n",
              "      <th>Make</th>\n",
              "      <th>Engine HP</th>\n",
              "      <th>Engine Cylinders</th>\n",
              "      <th>Transmission Type</th>\n",
              "      <th>Driven_Wheels</th>\n",
              "      <th>Vehicle Size</th>\n",
              "      <th>Vehicle Style</th>\n",
              "      <th>highway MPG</th>\n",
              "      <th>city mpg</th>\n",
              "      <th>MSRP</th>\n",
              "    </tr>\n",
              "  </thead>\n",
              "  <tbody>\n",
              "    <tr>\n",
              "      <th>0</th>\n",
              "      <td>BMW</td>\n",
              "      <td>335.0</td>\n",
              "      <td>6.0</td>\n",
              "      <td>MANUAL</td>\n",
              "      <td>rear wheel drive</td>\n",
              "      <td>Compact</td>\n",
              "      <td>Coupe</td>\n",
              "      <td>26</td>\n",
              "      <td>19</td>\n",
              "      <td>46135</td>\n",
              "    </tr>\n",
              "    <tr>\n",
              "      <th>1</th>\n",
              "      <td>BMW</td>\n",
              "      <td>300.0</td>\n",
              "      <td>6.0</td>\n",
              "      <td>MANUAL</td>\n",
              "      <td>rear wheel drive</td>\n",
              "      <td>Compact</td>\n",
              "      <td>Convertible</td>\n",
              "      <td>28</td>\n",
              "      <td>19</td>\n",
              "      <td>40650</td>\n",
              "    </tr>\n",
              "    <tr>\n",
              "      <th>2</th>\n",
              "      <td>BMW</td>\n",
              "      <td>300.0</td>\n",
              "      <td>6.0</td>\n",
              "      <td>MANUAL</td>\n",
              "      <td>rear wheel drive</td>\n",
              "      <td>Compact</td>\n",
              "      <td>Coupe</td>\n",
              "      <td>28</td>\n",
              "      <td>20</td>\n",
              "      <td>36350</td>\n",
              "    </tr>\n",
              "    <tr>\n",
              "      <th>3</th>\n",
              "      <td>BMW</td>\n",
              "      <td>230.0</td>\n",
              "      <td>6.0</td>\n",
              "      <td>MANUAL</td>\n",
              "      <td>rear wheel drive</td>\n",
              "      <td>Compact</td>\n",
              "      <td>Coupe</td>\n",
              "      <td>28</td>\n",
              "      <td>18</td>\n",
              "      <td>29450</td>\n",
              "    </tr>\n",
              "    <tr>\n",
              "      <th>4</th>\n",
              "      <td>BMW</td>\n",
              "      <td>230.0</td>\n",
              "      <td>6.0</td>\n",
              "      <td>MANUAL</td>\n",
              "      <td>rear wheel drive</td>\n",
              "      <td>Compact</td>\n",
              "      <td>Convertible</td>\n",
              "      <td>28</td>\n",
              "      <td>18</td>\n",
              "      <td>34500</td>\n",
              "    </tr>\n",
              "  </tbody>\n",
              "</table>\n",
              "</div>"
            ],
            "text/plain": [
              "  Make  Engine HP  Engine Cylinders  ... highway MPG city mpg   MSRP\n",
              "0  BMW      335.0               6.0  ...          26       19  46135\n",
              "1  BMW      300.0               6.0  ...          28       19  40650\n",
              "2  BMW      300.0               6.0  ...          28       20  36350\n",
              "3  BMW      230.0               6.0  ...          28       18  29450\n",
              "4  BMW      230.0               6.0  ...          28       18  34500\n",
              "\n",
              "[5 rows x 10 columns]"
            ]
          },
          "metadata": {
            "tags": []
          },
          "execution_count": 10
        }
      ]
    },
    {
      "cell_type": "markdown",
      "metadata": {
        "id": "TZclY2XL9FDS",
        "colab_type": "text"
      },
      "source": [
        "## 3 - RENAMING THE COLUMNS"
      ]
    },
    {
      "cell_type": "code",
      "metadata": {
        "id": "dDpuxfV49Iym",
        "colab_type": "code",
        "colab": {}
      },
      "source": [
        "#RENAMING THE COLUMNS\n",
        "data=data.rename(columns={\"Engine HP\": \"HP\", \"Engine Cylinders\": \"Cylinders\", \"Transmission Type\": \"Transmission\", \"Driven_Wheels\": \"Drive Mode\",\"highway MPG\": \"MPG-H\", \"city mpg\": \"MPG-C\", \"MSRP\": \"Price\" })"
      ],
      "execution_count": null,
      "outputs": []
    },
    {
      "cell_type": "code",
      "metadata": {
        "id": "cp6T6Ipx0zUa",
        "colab_type": "code",
        "colab": {
          "base_uri": "https://localhost:8080/"
        },
        "outputId": "1738d2c4-8600-4200-c154-58fb2ab85d4b"
      },
      "source": [
        "#DISPLAYING THE DATA AFTER RENAMING THE COLUMNS\n",
        "data.head()"
      ],
      "execution_count": null,
      "outputs": [
        {
          "output_type": "execute_result",
          "data": {
            "text/html": [
              "<div>\n",
              "<style scoped>\n",
              "    .dataframe tbody tr th:only-of-type {\n",
              "        vertical-align: middle;\n",
              "    }\n",
              "\n",
              "    .dataframe tbody tr th {\n",
              "        vertical-align: top;\n",
              "    }\n",
              "\n",
              "    .dataframe thead th {\n",
              "        text-align: right;\n",
              "    }\n",
              "</style>\n",
              "<table border=\"1\" class=\"dataframe\">\n",
              "  <thead>\n",
              "    <tr style=\"text-align: right;\">\n",
              "      <th></th>\n",
              "      <th>Make</th>\n",
              "      <th>HP</th>\n",
              "      <th>Cylinders</th>\n",
              "      <th>Transmission</th>\n",
              "      <th>Drive Mode</th>\n",
              "      <th>Vehicle Size</th>\n",
              "      <th>Vehicle Style</th>\n",
              "      <th>MPG-H</th>\n",
              "      <th>MPG-C</th>\n",
              "      <th>Price</th>\n",
              "    </tr>\n",
              "  </thead>\n",
              "  <tbody>\n",
              "    <tr>\n",
              "      <th>0</th>\n",
              "      <td>BMW</td>\n",
              "      <td>335.0</td>\n",
              "      <td>6.0</td>\n",
              "      <td>MANUAL</td>\n",
              "      <td>rear wheel drive</td>\n",
              "      <td>Compact</td>\n",
              "      <td>Coupe</td>\n",
              "      <td>26</td>\n",
              "      <td>19</td>\n",
              "      <td>46135</td>\n",
              "    </tr>\n",
              "    <tr>\n",
              "      <th>1</th>\n",
              "      <td>BMW</td>\n",
              "      <td>300.0</td>\n",
              "      <td>6.0</td>\n",
              "      <td>MANUAL</td>\n",
              "      <td>rear wheel drive</td>\n",
              "      <td>Compact</td>\n",
              "      <td>Convertible</td>\n",
              "      <td>28</td>\n",
              "      <td>19</td>\n",
              "      <td>40650</td>\n",
              "    </tr>\n",
              "    <tr>\n",
              "      <th>2</th>\n",
              "      <td>BMW</td>\n",
              "      <td>300.0</td>\n",
              "      <td>6.0</td>\n",
              "      <td>MANUAL</td>\n",
              "      <td>rear wheel drive</td>\n",
              "      <td>Compact</td>\n",
              "      <td>Coupe</td>\n",
              "      <td>28</td>\n",
              "      <td>20</td>\n",
              "      <td>36350</td>\n",
              "    </tr>\n",
              "    <tr>\n",
              "      <th>3</th>\n",
              "      <td>BMW</td>\n",
              "      <td>230.0</td>\n",
              "      <td>6.0</td>\n",
              "      <td>MANUAL</td>\n",
              "      <td>rear wheel drive</td>\n",
              "      <td>Compact</td>\n",
              "      <td>Coupe</td>\n",
              "      <td>28</td>\n",
              "      <td>18</td>\n",
              "      <td>29450</td>\n",
              "    </tr>\n",
              "    <tr>\n",
              "      <th>4</th>\n",
              "      <td>BMW</td>\n",
              "      <td>230.0</td>\n",
              "      <td>6.0</td>\n",
              "      <td>MANUAL</td>\n",
              "      <td>rear wheel drive</td>\n",
              "      <td>Compact</td>\n",
              "      <td>Convertible</td>\n",
              "      <td>28</td>\n",
              "      <td>18</td>\n",
              "      <td>34500</td>\n",
              "    </tr>\n",
              "  </tbody>\n",
              "</table>\n",
              "</div>"
            ],
            "text/plain": [
              "  Make     HP  Cylinders Transmission  ... Vehicle Style MPG-H MPG-C  Price\n",
              "0  BMW  335.0        6.0       MANUAL  ...         Coupe    26    19  46135\n",
              "1  BMW  300.0        6.0       MANUAL  ...   Convertible    28    19  40650\n",
              "2  BMW  300.0        6.0       MANUAL  ...         Coupe    28    20  36350\n",
              "3  BMW  230.0        6.0       MANUAL  ...         Coupe    28    18  29450\n",
              "4  BMW  230.0        6.0       MANUAL  ...   Convertible    28    18  34500\n",
              "\n",
              "[5 rows x 10 columns]"
            ]
          },
          "metadata": {
            "tags": []
          },
          "execution_count": 12
        }
      ]
    },
    {
      "cell_type": "markdown",
      "metadata": {
        "id": "iVYsTI-_vkVY",
        "colab_type": "text"
      },
      "source": [
        "## 4 - DROPPING OF DUPLICATE ROWS AND MISSING/NULL VALUES"
      ]
    },
    {
      "cell_type": "markdown",
      "metadata": {
        "id": "jCckg2Rotbso",
        "colab_type": "text"
      },
      "source": [
        "THE OBJECTIVE OF THIS PROJECT IS TO DO EDA AND ITS FINE TO DROP MISSING VALUES AND DUPLICATE ROWS SINCE ITS SMALL COMPARED TO THE ENTIRE DATASET"
      ]
    },
    {
      "cell_type": "markdown",
      "metadata": {
        "id": "a_AObrhk2EVX",
        "colab_type": "text"
      },
      "source": [
        "* **DUPLICATE ROWS**"
      ]
    },
    {
      "cell_type": "code",
      "metadata": {
        "id": "OYBrTjPqw6ma",
        "colab_type": "code",
        "colab": {
          "base_uri": "https://localhost:8080/"
        },
        "outputId": "47455438-e63a-4723-d4dd-5553f77eec24"
      },
      "source": [
        "#NUMBER OF ROWS AND COLUMNS BEFORE\n",
        "data.shape"
      ],
      "execution_count": null,
      "outputs": [
        {
          "output_type": "execute_result",
          "data": {
            "text/plain": [
              "(11914, 10)"
            ]
          },
          "metadata": {
            "tags": []
          },
          "execution_count": 13
        }
      ]
    },
    {
      "cell_type": "code",
      "metadata": {
        "id": "u77uc2dhw-ax",
        "colab_type": "code",
        "colab": {
          "base_uri": "https://localhost:8080/"
        },
        "outputId": "6cb21c3e-ddf3-48f5-8308-6e1e7d971e1f"
      },
      "source": [
        "#GETTING KNOW HOW MANY DUPLICATE ROWS ARE PRESENT IN THE DATA\n",
        "dup_rows=data[data.duplicated()]\n",
        "print(\"Number of duplicated rows are:\\n\",dup_rows.shape)"
      ],
      "execution_count": null,
      "outputs": [
        {
          "output_type": "stream",
          "text": [
            "Number of duplicated rows are:\n",
            " (1498, 10)\n"
          ],
          "name": "stdout"
        }
      ]
    },
    {
      "cell_type": "code",
      "metadata": {
        "id": "NQqYbgJnw_vm",
        "colab_type": "code",
        "colab": {
          "base_uri": "https://localhost:8080/"
        },
        "outputId": "5f62a12c-8020-4103-84f2-bde9e157acb6"
      },
      "source": [
        "#DROPPING DUPLICATED ROWS\n",
        "data=data.drop_duplicates()\n",
        "#NUMBER OF ROWS AND COLUMNS AFTER\n",
        "data.shape"
      ],
      "execution_count": null,
      "outputs": [
        {
          "output_type": "execute_result",
          "data": {
            "text/plain": [
              "(10416, 10)"
            ]
          },
          "metadata": {
            "tags": []
          },
          "execution_count": 15
        }
      ]
    },
    {
      "cell_type": "markdown",
      "metadata": {
        "id": "IdOZookx2J5-",
        "colab_type": "text"
      },
      "source": [
        "* **NULL VALUES**"
      ]
    },
    {
      "cell_type": "code",
      "metadata": {
        "id": "I1Jd5vbTw_BS",
        "colab_type": "code",
        "colab": {
          "base_uri": "https://localhost:8080/"
        },
        "outputId": "484ccc41-0b1f-4990-9044-cc82060f0161"
      },
      "source": [
        "#GETTING TO KNOW HOW MANY NULL VALUES PRESENT\n",
        "print(data.isnull().sum())"
      ],
      "execution_count": null,
      "outputs": [
        {
          "output_type": "stream",
          "text": [
            "Make              0\n",
            "HP               61\n",
            "Cylinders        30\n",
            "Transmission      0\n",
            "Drive Mode        0\n",
            "Vehicle Size      0\n",
            "Vehicle Style     0\n",
            "MPG-H             0\n",
            "MPG-C             0\n",
            "Price             0\n",
            "dtype: int64\n"
          ],
          "name": "stdout"
        }
      ]
    },
    {
      "cell_type": "code",
      "metadata": {
        "id": "M2x23a3Fw-Nv",
        "colab_type": "code",
        "colab": {
          "base_uri": "https://localhost:8080/"
        },
        "outputId": "e07c1fe9-d271-4c63-9c10-dce8cc701e9f"
      },
      "source": [
        "#DROPPING NULL VALUES FROM DATA\n",
        "data=data.dropna()\n",
        "#COUNTING THE NUMBER OF ROWS AFTER REMOVING THE DATA\n",
        "data.count()"
      ],
      "execution_count": null,
      "outputs": [
        {
          "output_type": "execute_result",
          "data": {
            "text/plain": [
              "Make             10326\n",
              "HP               10326\n",
              "Cylinders        10326\n",
              "Transmission     10326\n",
              "Drive Mode       10326\n",
              "Vehicle Size     10326\n",
              "Vehicle Style    10326\n",
              "MPG-H            10326\n",
              "MPG-C            10326\n",
              "Price            10326\n",
              "dtype: int64"
            ]
          },
          "metadata": {
            "tags": []
          },
          "execution_count": 17
        }
      ]
    },
    {
      "cell_type": "code",
      "metadata": {
        "id": "eyH8dcWn3Rgh",
        "colab_type": "code",
        "colab": {
          "base_uri": "https://localhost:8080/"
        },
        "outputId": "5233fce0-1990-4bab-d0c9-547c73cb8be7"
      },
      "source": [
        "#CHECKING WHETHER ALL NULL VALUES REMOVED OR NOT\n",
        "print(data.isnull().sum())"
      ],
      "execution_count": null,
      "outputs": [
        {
          "output_type": "stream",
          "text": [
            "Make             0\n",
            "HP               0\n",
            "Cylinders        0\n",
            "Transmission     0\n",
            "Drive Mode       0\n",
            "Vehicle Size     0\n",
            "Vehicle Style    0\n",
            "MPG-H            0\n",
            "MPG-C            0\n",
            "Price            0\n",
            "dtype: int64\n"
          ],
          "name": "stdout"
        }
      ]
    },
    {
      "cell_type": "code",
      "metadata": {
        "id": "FxxJaxtD3bG4",
        "colab_type": "code",
        "colab": {
          "base_uri": "https://localhost:8080/"
        },
        "outputId": "5e377570-c480-4e28-eb00-c6c9b5d48596"
      },
      "source": [
        "#NUMBER OF ROWS AND COLUMNS AFTER\n",
        "data.shape"
      ],
      "execution_count": null,
      "outputs": [
        {
          "output_type": "execute_result",
          "data": {
            "text/plain": [
              "(10326, 10)"
            ]
          },
          "metadata": {
            "tags": []
          },
          "execution_count": 19
        }
      ]
    },
    {
      "cell_type": "markdown",
      "metadata": {
        "id": "dowcFHs532ql",
        "colab_type": "text"
      },
      "source": [
        "## 5 - OUTLIERS"
      ]
    },
    {
      "cell_type": "markdown",
      "metadata": {
        "id": "L3hmA6ygtyb_",
        "colab_type": "text"
      },
      "source": [
        "AN OUTLIER IS A POINT OR SET OF POINTS THAT ARE DIFFERENT FROM OTHER POINTS WHICH ARE LOW AND HIGH. ITS OFTEN A GOOD IDEA TO DETECT THE OUTLIERS AND TO REMOVE THEM SINCE THEY RESULTS IN LESS ACCURACY OF THE MODEL."
      ]
    },
    {
      "cell_type": "markdown",
      "metadata": {
        "id": "V32knDCCT014",
        "colab_type": "text"
      },
      "source": [
        "* **DETECTION OF OUTLIERS**"
      ]
    },
    {
      "cell_type": "code",
      "metadata": {
        "id": "ObLNn1WM32DW",
        "colab_type": "code",
        "colab": {
          "base_uri": "https://localhost:8080/"
        },
        "outputId": "b4395204-baa8-4e3f-ebb5-b3f21c2b9e58"
      },
      "source": [
        "sns.boxplot(x=data['Price'])"
      ],
      "execution_count": null,
      "outputs": [
        {
          "output_type": "execute_result",
          "data": {
            "text/plain": [
              "<matplotlib.axes._subplots.AxesSubplot at 0x7ff187c9a390>"
            ]
          },
          "metadata": {
            "tags": []
          },
          "execution_count": 20
        },
        {
          "output_type": "display_data",
          "data": {
            "image/png": "[encoded data removed]",
            "text/plain": [
              "<Figure size 432x288 with 1 Axes>"
            ]
          },
          "metadata": {
            "tags": [],
            "needs_background": "light"
          }
        }
      ]
    },
    {
      "cell_type": "code",
      "metadata": {
        "id": "Uedihc6T315o",
        "colab_type": "code",
        "colab": {
          "base_uri": "https://localhost:8080/"
        },
        "outputId": "24639378-8a08-451f-d822-8caafba31774"
      },
      "source": [
        "sns.boxplot(x=data['HP'])"
      ],
      "execution_count": null,
      "outputs": [
        {
          "output_type": "execute_result",
          "data": {
            "text/plain": [
              "<matplotlib.axes._subplots.AxesSubplot at 0x7ff187be0710>"
            ]
          },
          "metadata": {
            "tags": []
          },
          "execution_count": 21
        },
        {
          "output_type": "display_data",
          "data": {
            "image/png": "[encoded data removed]",
            "text/plain": [
              "<Figure size 432x288 with 1 Axes>"
            ]
          },
          "metadata": {
            "tags": [],
            "needs_background": "light"
          }
        }
      ]
    },
    {
      "cell_type": "code",
      "metadata": {
        "id": "aRFoEhGL31h4",
        "colab_type": "code",
        "colab": {
          "base_uri": "https://localhost:8080/"
        },
        "outputId": "a08b3eb9-2a36-4062-8be4-7b307240d9c4"
      },
      "source": [
        "sns.boxplot(x=data['Cylinders'])"
      ],
      "execution_count": null,
      "outputs": [
        {
          "output_type": "execute_result",
          "data": {
            "text/plain": [
              "<matplotlib.axes._subplots.AxesSubplot at 0x7ff18777acc0>"
            ]
          },
          "metadata": {
            "tags": []
          },
          "execution_count": 22
        },
        {
          "output_type": "display_data",
          "data": {
            "image/png": "[encoded data removed]",
            "text/plain": [
              "<Figure size 432x288 with 1 Axes>"
            ]
          },
          "metadata": {
            "tags": [],
            "needs_background": "light"
          }
        }
      ]
    },
    {
      "cell_type": "markdown",
      "metadata": {
        "id": "Q0mepRVpuW5M",
        "colab_type": "text"
      },
      "source": [
        "THE POINTS OUTSIDE OF THE BOX POTS ARE ALL OUTLIERS"
      ]
    },
    {
      "cell_type": "markdown",
      "metadata": {
        "id": "A824ALt7T6zG",
        "colab_type": "text"
      },
      "source": [
        "* **REMOVAL OF OUTLIERS**"
      ]
    },
    {
      "cell_type": "code",
      "metadata": {
        "id": "kXO_m-HhR9ig",
        "colab_type": "code",
        "colab": {
          "base_uri": "https://localhost:8080/"
        },
        "outputId": "e388edf0-c557-4d20-c1bc-a56c3587007a"
      },
      "source": [
        "#USING INTERQUARTILE RANGE METHOD\n",
        "Q1 = data.quantile(0.25)\n",
        "Q3 = data.quantile(0.75)\n",
        "IQR = Q3 - Q1\n",
        "print(IQR)"
      ],
      "execution_count": null,
      "outputs": [
        {
          "output_type": "stream",
          "text": [
            "HP             129.0\n",
            "Cylinders        2.0\n",
            "MPG-H            8.0\n",
            "MPG-C            6.0\n",
            "Price        20975.0\n",
            "dtype: float64\n"
          ],
          "name": "stdout"
        }
      ]
    },
    {
      "cell_type": "code",
      "metadata": {
        "id": "hd3SG57jR9tm",
        "colab_type": "code",
        "colab": {
          "base_uri": "https://localhost:8080/"
        },
        "outputId": "123dbdc4-88a5-4f62-8f65-876949adf538"
      },
      "source": [
        "#TO REMOVE THE OUTLIERS\n",
        "data=data[~((data < (Q1 - 1.5 * IQR)) |(data > (Q3 + 1.5 * IQR))).any(axis=1)]\n",
        "data.shape"
      ],
      "execution_count": null,
      "outputs": [
        {
          "output_type": "execute_result",
          "data": {
            "text/plain": [
              "(9171, 10)"
            ]
          },
          "metadata": {
            "tags": []
          },
          "execution_count": 24
        }
      ]
    },
    {
      "cell_type": "markdown",
      "metadata": {
        "id": "yLU-eii-gW_S",
        "colab_type": "text"
      },
      "source": [
        "## 6 - MOST REPRESNTED CAR BRANDS"
      ]
    },
    {
      "cell_type": "code",
      "metadata": {
        "id": "MBecyuIcR9yf",
        "colab_type": "code",
        "colab": {
          "base_uri": "https://localhost:8080/"
        },
        "outputId": "5a3d9e88-ff9f-4233-fa56-1a3990337a36"
      },
      "source": [
        "# PERCENTAGE OF CAR PER BRAND\n",
        "counts = data['Make'].value_counts()*100/sum(data['Make'].value_counts())\n",
        "# TOP 10 CAR BRANDS\n",
        "popular_labels = counts.index[:10]    \n",
        "# PLOTTING THE GRAPH\n",
        "plt.figure(figsize=(10,5))\n",
        "plt.barh(popular_labels, width=counts[:10])\n",
        "plt.title('Top 10 Car brands')\n",
        "plt.show()"
      ],
      "execution_count": null,
      "outputs": [
        {
          "output_type": "display_data",
          "data": {
            "image/png": "[encoded data removed]",
            "text/plain": [
              "<Figure size 720x360 with 1 Axes>"
            ]
          },
          "metadata": {
            "tags": [],
            "needs_background": "light"
          }
        }
      ]
    },
    {
      "cell_type": "code",
      "metadata": {
        "id": "TvlVYmqTR9oC",
        "colab_type": "code",
        "colab": {
          "base_uri": "https://localhost:8080/"
        },
        "outputId": "d84fc9fc-9b70-4f12-8894-2a810cf2b138"
      },
      "source": [
        "#TO FIND THE AVERAGE PRICE PRICE OF THE CARS\n",
        "rate=data[['Make','Price']].loc[(data['Make'] == 'Chevrolet')|\n",
        "               (data['Make'] == 'Ford')|\n",
        "               (data['Make'] == 'Volkswagen')|\n",
        "               (data['Make'] == 'Toyota')|\n",
        "               (data['Make'] == 'Dodge')|\n",
        "               (data['Make'] == 'Nissan')|\n",
        "               (data['Make'] == 'GMC')|\n",
        "               (data['Make'] == 'Honda')|\n",
        "               (data['Make'] == 'Mazda')].groupby('Make').mean()\n",
        "print(\"THE AVERAGE PRICE OF THE TOP BRANDED CARS ARE :\\n\",rate)"
      ],
      "execution_count": null,
      "outputs": [
        {
          "output_type": "stream",
          "text": [
            "THE AVERAGE PRICE OF THE TOP BRANDED CARS ARE :\n",
            "                    Price\n",
            "Make                    \n",
            "Chevrolet   28238.587885\n",
            "Dodge       22640.588745\n",
            "Ford        27843.995879\n",
            "GMC         32570.935417\n",
            "Honda       27178.853723\n",
            "Mazda       19901.719198\n",
            "Nissan      26909.535637\n",
            "Toyota      27522.103691\n",
            "Volkswagen  28372.645545\n"
          ],
          "name": "stdout"
        }
      ]
    },
    {
      "cell_type": "markdown",
      "metadata": {
        "id": "K6g_6sDk0QyY",
        "colab_type": "text"
      },
      "source": [
        "## 7 - CORRELATION"
      ]
    },
    {
      "cell_type": "code",
      "metadata": {
        "id": "cVMhD5_c0eOB",
        "colab_type": "code",
        "colab": {
          "base_uri": "https://localhost:8080/",
          "height": 195
        },
        "outputId": "6e57c448-093f-4e9f-f543-a585a2ed91cc"
      },
      "source": [
        "#CORRELATION MATRIX\n",
        "data.corr()"
      ],
      "execution_count": null,
      "outputs": [
        {
          "output_type": "execute_result",
          "data": {
            "text/html": [
              "<div>\n",
              "<style scoped>\n",
              "    .dataframe tbody tr th:only-of-type {\n",
              "        vertical-align: middle;\n",
              "    }\n",
              "\n",
              "    .dataframe tbody tr th {\n",
              "        vertical-align: top;\n",
              "    }\n",
              "\n",
              "    .dataframe thead th {\n",
              "        text-align: right;\n",
              "    }\n",
              "</style>\n",
              "<table border=\"1\" class=\"dataframe\">\n",
              "  <thead>\n",
              "    <tr style=\"text-align: right;\">\n",
              "      <th></th>\n",
              "      <th>HP</th>\n",
              "      <th>Cylinders</th>\n",
              "      <th>MPG-H</th>\n",
              "      <th>MPG-C</th>\n",
              "      <th>Price</th>\n",
              "    </tr>\n",
              "  </thead>\n",
              "  <tbody>\n",
              "    <tr>\n",
              "      <th>HP</th>\n",
              "      <td>1.000000</td>\n",
              "      <td>0.697729</td>\n",
              "      <td>-0.423702</td>\n",
              "      <td>-0.519429</td>\n",
              "      <td>0.741033</td>\n",
              "    </tr>\n",
              "    <tr>\n",
              "      <th>Cylinders</th>\n",
              "      <td>0.697729</td>\n",
              "      <td>1.000000</td>\n",
              "      <td>-0.703366</td>\n",
              "      <td>-0.751810</td>\n",
              "      <td>0.321756</td>\n",
              "    </tr>\n",
              "    <tr>\n",
              "      <th>MPG-H</th>\n",
              "      <td>-0.423702</td>\n",
              "      <td>-0.703366</td>\n",
              "      <td>1.000000</td>\n",
              "      <td>0.940995</td>\n",
              "      <td>-0.059940</td>\n",
              "    </tr>\n",
              "    <tr>\n",
              "      <th>MPG-C</th>\n",
              "      <td>-0.519429</td>\n",
              "      <td>-0.751810</td>\n",
              "      <td>0.940995</td>\n",
              "      <td>1.000000</td>\n",
              "      <td>-0.131613</td>\n",
              "    </tr>\n",
              "    <tr>\n",
              "      <th>Price</th>\n",
              "      <td>0.741033</td>\n",
              "      <td>0.321756</td>\n",
              "      <td>-0.059940</td>\n",
              "      <td>-0.131613</td>\n",
              "      <td>1.000000</td>\n",
              "    </tr>\n",
              "  </tbody>\n",
              "</table>\n",
              "</div>"
            ],
            "text/plain": [
              "                 HP  Cylinders     MPG-H     MPG-C     Price\n",
              "HP         1.000000   0.697729 -0.423702 -0.519429  0.741033\n",
              "Cylinders  0.697729   1.000000 -0.703366 -0.751810  0.321756\n",
              "MPG-H     -0.423702  -0.703366  1.000000  0.940995 -0.059940\n",
              "MPG-C     -0.519429  -0.751810  0.940995  1.000000 -0.131613\n",
              "Price      0.741033   0.321756 -0.059940 -0.131613  1.000000"
            ]
          },
          "metadata": {
            "tags": []
          },
          "execution_count": 27
        }
      ]
    },
    {
      "cell_type": "markdown",
      "metadata": {
        "id": "91IGpAbdeOGB",
        "colab_type": "text"
      },
      "source": [
        "* **FROM THE PLOT**\n",
        "     * **HIGH CORRELATION :**\n",
        "        ONE QUANTITY INCREASES, THE OTHER INCREASES AS WELL\n",
        "        * CYLINDERS & HP  [WHEN NUMBER OF CYLINDERS INCREASES HORSE POWER INCREASES]\n",
        "        * MPG-H & MPG-C\n",
        "     * **LOW CORRELATION :**\n",
        "         ONE QUANTITY INCREASES, THE OTHER QUANTITY DECREASES\n",
        "         * CYLINDERS & MPG-H\n",
        "         * CYLINDERS & MPG-C   "
      ]
    },
    {
      "cell_type": "code",
      "metadata": {
        "id": "mjSaq6Y_0eTS",
        "colab_type": "code",
        "colab": {
          "base_uri": "https://localhost:8080/",
          "height": 341
        },
        "outputId": "7346add0-db4c-431e-941b-a8aa56a9dfa4"
      },
      "source": [
        "#PLOTING THE MATRIX\n",
        "plt.figure(figsize=(10,5))\n",
        "c= data.corr()\n",
        "sns.heatmap(c,cmap=\"BrBG\",annot=True)"
      ],
      "execution_count": null,
      "outputs": [
        {
          "output_type": "execute_result",
          "data": {
            "text/plain": [
              "<matplotlib.axes._subplots.AxesSubplot at 0x7ff1876fbf98>"
            ]
          },
          "metadata": {
            "tags": []
          },
          "execution_count": 28
        },
        {
          "output_type": "display_data",
          "data": {
            "image/png": "[encoded data removed]",
            "text/plain": [
              "<Figure size 720x360 with 2 Axes>"
            ]
          },
          "metadata": {
            "tags": [],
            "needs_background": "light"
          }
        }
      ]
    },
    {
      "cell_type": "markdown",
      "metadata": {
        "id": "QD1eKni41Zar",
        "colab_type": "text"
      },
      "source": [
        "## 8 - EDA PERFORMANCE AND GRAPHS"
      ]
    },
    {
      "cell_type": "markdown",
      "metadata": {
        "id": "MpoiJqENwGVp",
        "colab_type": "text"
      },
      "source": [
        "* HISTOGRAMS REFERS TO THE FREQUENCY OF OCCURRENCE OF VARIABLES IN AN INETRVAL."
      ]
    },
    {
      "cell_type": "code",
      "metadata": {
        "id": "azCJ5h1jdSXY",
        "colab_type": "code",
        "colab": {
          "base_uri": "https://localhost:8080/",
          "height": 415
        },
        "outputId": "38534db8-16b5-4772-8908-48bf0de7763f"
      },
      "source": [
        "#PLOTTING HISTOGRAM\n",
        "data.Make.value_counts().nlargest(40).plot(kind='bar', figsize=(10,5))\n",
        "plt.title(\"NUMBER OF CARS BY MAKE\")\n",
        "plt.ylabel('NUMBER OF CARS')\n",
        "plt.xlabel('MAKE');"
      ],
      "execution_count": null,
      "outputs": [
        {
          "output_type": "display_data",
          "data": {
            "image/png": "[encoded data removed]",
            "text/plain": [
              "<Figure size 720x360 with 1 Axes>"
            ]
          },
          "metadata": {
            "tags": [],
            "needs_background": "light"
          }
        }
      ]
    },
    {
      "cell_type": "markdown",
      "metadata": {
        "id": "C3bvE-6ewXlL",
        "colab_type": "text"
      },
      "source": [
        "* HERE WE CAN SEE THAT CHEVROLET MADE THE MOST SELLINGS COMPARED TO OTHER COMPANIES CARS "
      ]
    },
    {
      "cell_type": "code",
      "metadata": {
        "id": "sxH5Sf9Z0gEb",
        "colab_type": "code",
        "colab": {
          "base_uri": "https://localhost:8080/",
          "height": 296
        },
        "outputId": "6fb7916b-6d2a-4447-bff8-f6bbba8ac176"
      },
      "source": [
        "#PLOTTING BAR GRAPH\n",
        "sns.barplot(data['HP'],data['Price'])"
      ],
      "execution_count": null,
      "outputs": [
        {
          "output_type": "execute_result",
          "data": {
            "text/plain": [
              "<matplotlib.axes._subplots.AxesSubplot at 0x7ff1876ae198>"
            ]
          },
          "metadata": {
            "tags": []
          },
          "execution_count": 30
        },
        {
          "output_type": "display_data",
          "data": {
            "image/png": "[encoded data removed]",
            "text/plain": [
              "<Figure size 432x288 with 1 Axes>"
            ]
          },
          "metadata": {
            "tags": [],
            "needs_background": "light"
          }
        }
      ]
    },
    {
      "cell_type": "code",
      "metadata": {
        "id": "GfgnMj1Mwm9Z",
        "colab_type": "code",
        "colab": {
          "base_uri": "https://localhost:8080/",
          "height": 296
        },
        "outputId": "3e787914-9253-4fbc-faf3-2df18054ef02"
      },
      "source": [
        "#PLOTTING SCATTER GRAPH\n",
        "sns.scatterplot(data['HP'],data['Price'])"
      ],
      "execution_count": null,
      "outputs": [
        {
          "output_type": "execute_result",
          "data": {
            "text/plain": [
              "<matplotlib.axes._subplots.AxesSubplot at 0x7ff1830d4a20>"
            ]
          },
          "metadata": {
            "tags": []
          },
          "execution_count": 31
        },
        {
          "output_type": "display_data",
          "data": {
            "image/png": "[encoded data removed]",
            "text/plain": [
              "<Figure size 432x288 with 1 Axes>"
            ]
          },
          "metadata": {
            "tags": [],
            "needs_background": "light"
          }
        }
      ]
    },
    {
      "cell_type": "markdown",
      "metadata": {
        "id": "TN7gtmL70YWo",
        "colab_type": "text"
      },
      "source": [
        "* HERE WE CAN SEE THAT AS HP INCREASES PRICE INCREASES"
      ]
    },
    {
      "cell_type": "code",
      "metadata": {
        "id": "ZuU2lT2R0f7s",
        "colab_type": "code",
        "colab": {
          "base_uri": "https://localhost:8080/",
          "height": 296
        },
        "outputId": "c00af569-0819-4186-ff22-7b96cbe6fcbf"
      },
      "source": [
        "#PLOTTING BAR GARPH\n",
        "sns.barplot(data['Cylinders'],data['Price'])"
      ],
      "execution_count": null,
      "outputs": [
        {
          "output_type": "execute_result",
          "data": {
            "text/plain": [
              "<matplotlib.axes._subplots.AxesSubplot at 0x7ff1831b1cc0>"
            ]
          },
          "metadata": {
            "tags": []
          },
          "execution_count": 32
        },
        {
          "output_type": "display_data",
          "data": {
            "image/png": "[encoded data removed]",
            "text/plain": [
              "<Figure size 432x288 with 1 Axes>"
            ]
          },
          "metadata": {
            "tags": [],
            "needs_background": "light"
          }
        }
      ]
    },
    {
      "cell_type": "code",
      "metadata": {
        "id": "eghNFfPIwwkk",
        "colab_type": "code",
        "colab": {
          "base_uri": "https://localhost:8080/",
          "height": 296
        },
        "outputId": "a77d3ee5-f592-45dc-8f99-127b51cc7b21"
      },
      "source": [
        "#PLOTTING SCATTER GRAPH\n",
        "sns.scatterplot(data['Cylinders'],data['Price'])"
      ],
      "execution_count": null,
      "outputs": [
        {
          "output_type": "execute_result",
          "data": {
            "text/plain": [
              "<matplotlib.axes._subplots.AxesSubplot at 0x7ff183123e48>"
            ]
          },
          "metadata": {
            "tags": []
          },
          "execution_count": 33
        },
        {
          "output_type": "display_data",
          "data": {
            "image/png": "[encoded data removed]",
            "text/plain": [
              "<Figure size 432x288 with 1 Axes>"
            ]
          },
          "metadata": {
            "tags": [],
            "needs_background": "light"
          }
        }
      ]
    },
    {
      "cell_type": "markdown",
      "metadata": {
        "id": "tp3EThzz0dL-",
        "colab_type": "text"
      },
      "source": [
        "* HERE WE CAN SEE THAT AS NUMBER OF CYLINDERS INCREASES PRICE INCREASES\n",
        "* SINCE HP AND NUMBER OF CYLINDERS ARE HIGH CORRELATED, HENCE PRICE IS AFFECTED WITH RESPECT TO THEIR CHANGE "
      ]
    },
    {
      "cell_type": "code",
      "metadata": {
        "id": "hqAGWlh55C8h",
        "colab_type": "code",
        "colab": {
          "base_uri": "https://localhost:8080/",
          "height": 296
        },
        "outputId": "cd11ce00-296a-441f-af35-8e52e1215e84"
      },
      "source": [
        "#PLOTTING BAR GRAPH\n",
        "sns.barplot(data['MPG-H'],data['Price'])"
      ],
      "execution_count": null,
      "outputs": [
        {
          "output_type": "execute_result",
          "data": {
            "text/plain": [
              "<matplotlib.axes._subplots.AxesSubplot at 0x7ff1830fe3c8>"
            ]
          },
          "metadata": {
            "tags": []
          },
          "execution_count": 34
        },
        {
          "output_type": "display_data",
          "data": {
            "image/png": "[encoded data removed]",
            "text/plain": [
              "<Figure size 432x288 with 1 Axes>"
            ]
          },
          "metadata": {
            "tags": [],
            "needs_background": "light"
          }
        }
      ]
    },
    {
      "cell_type": "code",
      "metadata": {
        "id": "k3R-ZtL3xFzT",
        "colab_type": "code",
        "colab": {
          "base_uri": "https://localhost:8080/",
          "height": 296
        },
        "outputId": "fcc6e160-af0a-4b65-9006-8075a479358c"
      },
      "source": [
        "#PLOTTING SCATTER GRAPH\n",
        "sns.scatterplot(data['MPG-H'],data['Price'])"
      ],
      "execution_count": null,
      "outputs": [
        {
          "output_type": "execute_result",
          "data": {
            "text/plain": [
              "<matplotlib.axes._subplots.AxesSubplot at 0x7ff1817979e8>"
            ]
          },
          "metadata": {
            "tags": []
          },
          "execution_count": 35
        },
        {
          "output_type": "display_data",
          "data": {
            "image/png": "[encoded data removed]",
            "text/plain": [
              "<Figure size 432x288 with 1 Axes>"
            ]
          },
          "metadata": {
            "tags": [],
            "needs_background": "light"
          }
        }
      ]
    },
    {
      "cell_type": "code",
      "metadata": {
        "id": "O_VWvZfI5C1U",
        "colab_type": "code",
        "colab": {
          "base_uri": "https://localhost:8080/",
          "height": 296
        },
        "outputId": "30cc12bc-8d74-4712-d0e3-c529c68988a4"
      },
      "source": [
        "#PLOTTING BAR GRAPH\n",
        "sns.barplot(data['MPG-C'],data['Price'])"
      ],
      "execution_count": null,
      "outputs": [
        {
          "output_type": "execute_result",
          "data": {
            "text/plain": [
              "<matplotlib.axes._subplots.AxesSubplot at 0x7ff181709390>"
            ]
          },
          "metadata": {
            "tags": []
          },
          "execution_count": 36
        },
        {
          "output_type": "display_data",
          "data": {
            "image/png": "[encoded data removed]",
            "text/plain": [
              "<Figure size 432x288 with 1 Axes>"
            ]
          },
          "metadata": {
            "tags": [],
            "needs_background": "light"
          }
        }
      ]
    },
    {
      "cell_type": "code",
      "metadata": {
        "id": "QGl3RzsXzHS_",
        "colab_type": "code",
        "colab": {
          "base_uri": "https://localhost:8080/",
          "height": 296
        },
        "outputId": "2a44ffd1-81ef-4f91-e776-2412f8029142"
      },
      "source": [
        "#PLOTTING SCATTER GRAPH\n",
        "sns.scatterplot(data['MPG-C'],data['Price'])"
      ],
      "execution_count": null,
      "outputs": [
        {
          "output_type": "execute_result",
          "data": {
            "text/plain": [
              "<matplotlib.axes._subplots.AxesSubplot at 0x7ff181611be0>"
            ]
          },
          "metadata": {
            "tags": []
          },
          "execution_count": 37
        },
        {
          "output_type": "display_data",
          "data": {
            "image/png": "[encoded data removed]",
            "text/plain": [
              "<Figure size 432x288 with 1 Axes>"
            ]
          },
          "metadata": {
            "tags": [],
            "needs_background": "light"
          }
        }
      ]
    },
    {
      "cell_type": "markdown",
      "metadata": {
        "id": "N_QewF1j1Xos",
        "colab_type": "text"
      },
      "source": [
        "* FROM MPG-H&G WITH PRICE, WE GET TO KNOW THAT AS MPG INCREASES PRICE INCREASES AND LATER IT DECREASES. \n",
        "* SINCE MPG AND NUMBER OF CYLINDERS ARE VERY LOW CORRELATED, INCREASING IN CYLINDERS DECREASES MPG AND THE PRICE GETS DECREASED."
      ]
    },
    {
      "cell_type": "markdown",
      "metadata": {
        "id": "YsAQpFks6Iny",
        "colab_type": "text"
      },
      "source": [
        "## 9 - SPLITTING AND GENERATING THE SCORE OF THE MODEL"
      ]
    },
    {
      "cell_type": "markdown",
      "metadata": {
        "id": "SZaNgcJu4DD1",
        "colab_type": "text"
      },
      "source": [
        "* LABEL ENCODING REFERS TO CONVERTING THE LABELS INTO NUMERIC FORM SO AS TO CONVERT IT INTO THE MACHINE READABLE FORM.\n",
        "* MACHINE LEARNING ALGORITHMS CAN THEN DECIDE IN A BETTER WAY ON HOW THOSE LABELS MUST BE OPERATED."
      ]
    },
    {
      "cell_type": "markdown",
      "metadata": {
        "id": "zlVPP5_nI-z-",
        "colab_type": "text"
      },
      "source": [
        "* **ENCODING THE DATA**"
      ]
    },
    {
      "cell_type": "code",
      "metadata": {
        "id": "TvgwVrvJCx2v",
        "colab_type": "code",
        "colab": {
          "base_uri": "https://localhost:8080/"
        },
        "outputId": "d20dc6aa-4228-4cda-db87-c371507a40d2"
      },
      "source": [
        "from sklearn.preprocessing import LabelEncoder\n",
        "#Creating the object instance\n",
        "enc=LabelEncoder()\n",
        "d=data.select_dtypes(exclude=[np.number]).columns\n",
        "for i in d:\n",
        "  data[i]=enc.fit_transform(data[i])\n",
        "print('THE LABEL ENCODED DATA IS:\\n')\n",
        "data.head()  "
      ],
      "execution_count": null,
      "outputs": [
        {
          "output_type": "stream",
          "text": [
            "THE LABEL ENCODED DATA IS:\n",
            "\n"
          ],
          "name": "stdout"
        },
        {
          "output_type": "execute_result",
          "data": {
            "text/html": [
              "<div>\n",
              "<style scoped>\n",
              "    .dataframe tbody tr th:only-of-type {\n",
              "        vertical-align: middle;\n",
              "    }\n",
              "\n",
              "    .dataframe tbody tr th {\n",
              "        vertical-align: top;\n",
              "    }\n",
              "\n",
              "    .dataframe thead th {\n",
              "        text-align: right;\n",
              "    }\n",
              "</style>\n",
              "<table border=\"1\" class=\"dataframe\">\n",
              "  <thead>\n",
              "    <tr style=\"text-align: right;\">\n",
              "      <th></th>\n",
              "      <th>Make</th>\n",
              "      <th>HP</th>\n",
              "      <th>Cylinders</th>\n",
              "      <th>Transmission</th>\n",
              "      <th>Drive Mode</th>\n",
              "      <th>Vehicle Size</th>\n",
              "      <th>Vehicle Style</th>\n",
              "      <th>MPG-H</th>\n",
              "      <th>MPG-C</th>\n",
              "      <th>Price</th>\n",
              "    </tr>\n",
              "  </thead>\n",
              "  <tbody>\n",
              "    <tr>\n",
              "      <th>0</th>\n",
              "      <td>3</td>\n",
              "      <td>335.0</td>\n",
              "      <td>6.0</td>\n",
              "      <td>2</td>\n",
              "      <td>3</td>\n",
              "      <td>0</td>\n",
              "      <td>8</td>\n",
              "      <td>26</td>\n",
              "      <td>19</td>\n",
              "      <td>46135</td>\n",
              "    </tr>\n",
              "    <tr>\n",
              "      <th>1</th>\n",
              "      <td>3</td>\n",
              "      <td>300.0</td>\n",
              "      <td>6.0</td>\n",
              "      <td>2</td>\n",
              "      <td>3</td>\n",
              "      <td>0</td>\n",
              "      <td>6</td>\n",
              "      <td>28</td>\n",
              "      <td>19</td>\n",
              "      <td>40650</td>\n",
              "    </tr>\n",
              "    <tr>\n",
              "      <th>2</th>\n",
              "      <td>3</td>\n",
              "      <td>300.0</td>\n",
              "      <td>6.0</td>\n",
              "      <td>2</td>\n",
              "      <td>3</td>\n",
              "      <td>0</td>\n",
              "      <td>8</td>\n",
              "      <td>28</td>\n",
              "      <td>20</td>\n",
              "      <td>36350</td>\n",
              "    </tr>\n",
              "    <tr>\n",
              "      <th>3</th>\n",
              "      <td>3</td>\n",
              "      <td>230.0</td>\n",
              "      <td>6.0</td>\n",
              "      <td>2</td>\n",
              "      <td>3</td>\n",
              "      <td>0</td>\n",
              "      <td>8</td>\n",
              "      <td>28</td>\n",
              "      <td>18</td>\n",
              "      <td>29450</td>\n",
              "    </tr>\n",
              "    <tr>\n",
              "      <th>4</th>\n",
              "      <td>3</td>\n",
              "      <td>230.0</td>\n",
              "      <td>6.0</td>\n",
              "      <td>2</td>\n",
              "      <td>3</td>\n",
              "      <td>0</td>\n",
              "      <td>6</td>\n",
              "      <td>28</td>\n",
              "      <td>18</td>\n",
              "      <td>34500</td>\n",
              "    </tr>\n",
              "  </tbody>\n",
              "</table>\n",
              "</div>"
            ],
            "text/plain": [
              "   Make     HP  Cylinders  Transmission  ...  Vehicle Style  MPG-H  MPG-C  Price\n",
              "0     3  335.0        6.0             2  ...              8     26     19  46135\n",
              "1     3  300.0        6.0             2  ...              6     28     19  40650\n",
              "2     3  300.0        6.0             2  ...              8     28     20  36350\n",
              "3     3  230.0        6.0             2  ...              8     28     18  29450\n",
              "4     3  230.0        6.0             2  ...              6     28     18  34500\n",
              "\n",
              "[5 rows x 10 columns]"
            ]
          },
          "metadata": {
            "tags": []
          },
          "execution_count": 38
        }
      ]
    },
    {
      "cell_type": "markdown",
      "metadata": {
        "id": "G_lw0h70Jmic",
        "colab_type": "text"
      },
      "source": [
        "* **SPLITTING THE DATA**"
      ]
    },
    {
      "cell_type": "markdown",
      "metadata": {
        "id": "tFvTswSvAh7h",
        "colab_type": "text"
      },
      "source": [
        "SPLITTING THE DATA IN THE RATIO 80:20 WHERE;\n",
        "  * 80% --> TRAINING SET\n",
        "  * 20% --> TESTING SET"
      ]
    },
    {
      "cell_type": "markdown",
      "metadata": {
        "id": "RHgxVTU0krub",
        "colab_type": "text"
      },
      "source": [
        "* USING RANDOM FOREST REGRESSOR"
      ]
    },
    {
      "cell_type": "code",
      "metadata": {
        "id": "Ytr1kZzk6P-S",
        "colab_type": "code",
        "colab": {}
      },
      "source": [
        "from sklearn.ensemble import RandomForestRegressor\n",
        "from sklearn.model_selection import train_test_split\n",
        "\n",
        "y=data.iloc[:,8]     \n",
        "X=data.iloc[:,0:8]    #PRICE IS THE TARGET VARIABLE\n",
        "X_train, X_test, y_train, y_test = train_test_split(X, y, test_size=.25, random_state=0)\n",
        "model = RandomForestRegressor(random_state=5)\n",
        "model.fit(X_train, y_train)\n",
        "pred = model.predict(X_test)"
      ],
      "execution_count": null,
      "outputs": []
    },
    {
      "cell_type": "code",
      "metadata": {
        "id": "kFztn11D6QZX",
        "colab_type": "code",
        "colab": {
          "base_uri": "https://localhost:8080/"
        },
        "outputId": "ea7556f4-c99f-438c-ce0c-ccb87d50fa97"
      },
      "source": [
        "#ACCURACY OF THE MODEL\n",
        "print(\"THE MODEL SCORE OF THE MODEL IS :\\n\",model.score(X_test,y_test))"
      ],
      "execution_count": null,
      "outputs": [
        {
          "output_type": "stream",
          "text": [
            "THE MODEL SCORE OF THE MODEL IS :\n",
            " 0.9867151998797598\n"
          ],
          "name": "stdout"
        }
      ]
    },
    {
      "cell_type": "markdown",
      "metadata": {
        "id": "5EPhKAHNe4Nm",
        "colab_type": "text"
      },
      "source": [
        "THE MODEL SCORE OF THE MODEL USING RANDOM FOREST REGRESSION IS FOUND TO BE 0.9867 WHICH IS CLOSE TO 1"
      ]
    },
    {
      "cell_type": "markdown",
      "metadata": {
        "id": "nAO-q5TXpMyD",
        "colab_type": "text"
      },
      "source": [
        "ONE MORE ADVANTAGE OF USING RANDOM FOREST IS THAT IT GIVES BETTER RESULT THAN OTHER ALGORITHMS."
      ]
    },
    {
      "cell_type": "markdown",
      "metadata": {
        "id": "AdRP2MXKMEXS",
        "colab_type": "text"
      },
      "source": [
        "* USING LOGISTIC REGRESSION"
      ]
    },
    {
      "cell_type": "code",
      "metadata": {
        "id": "SX5xx21xL8CG",
        "colab_type": "code",
        "colab": {}
      },
      "source": [
        "from sklearn.model_selection import train_test_split\n",
        "from sklearn.linear_model import LogisticRegression"
      ],
      "execution_count": null,
      "outputs": []
    },
    {
      "cell_type": "code",
      "metadata": {
        "id": "Ii9Y06s1MPpx",
        "colab_type": "code",
        "colab": {}
      },
      "source": [
        "y=data.iloc[:,8]\n",
        "x=data.iloc[:,0:8]\n",
        "x_train,x_test,Y_train,Y_test=train_test_split(x,y,test_size=0.2,random_state=0)"
      ],
      "execution_count": null,
      "outputs": []
    },
    {
      "cell_type": "code",
      "metadata": {
        "id": "MPUrB0xuMPg-",
        "colab_type": "code",
        "colab": {
          "base_uri": "https://localhost:8080/"
        },
        "outputId": "758ea787-20ba-45c8-a0d2-c1b3e5d47fe4"
      },
      "source": [
        "logistic_regression=LogisticRegression()\n",
        "logistic_regression.fit(x_train,Y_train)\n",
        "Y_pred=logistic_regression.predict(x_test)\n",
        "print(\"THE MODEL SCORE OF THE MODEL IS :\\n\",logistic_regression.score(x_test,Y_test))"
      ],
      "execution_count": null,
      "outputs": [
        {
          "output_type": "stream",
          "text": [
            "THE MODEL SCORE OF THE MODEL IS :\n",
            " 0.2103542234332425\n"
          ],
          "name": "stdout"
        },
        {
          "output_type": "stream",
          "text": [
            "/usr/local/lib/python3.6/dist-packages/sklearn/linear_model/_logistic.py:940: ConvergenceWarning: lbfgs failed to converge (status=1):\n",
            "STOP: TOTAL NO. of ITERATIONS REACHED LIMIT.\n",
            "\n",
            "Increase the number of iterations (max_iter) or scale the data as shown in:\n",
            "    https://scikit-learn.org/stable/modules/preprocessing.html\n",
            "Please also refer to the documentation for alternative solver options:\n",
            "    https://scikit-learn.org/stable/modules/linear_model.html#logistic-regression\n",
            "  extra_warning_msg=_LOGISTIC_SOLVER_CONVERGENCE_MSG)\n"
          ],
          "name": "stderr"
        }
      ]
    },
    {
      "cell_type": "markdown",
      "metadata": {
        "id": "Msfp9HcsSckb",
        "colab_type": "text"
      },
      "source": [
        "* USING LINEAR REGRESSION"
      ]
    },
    {
      "cell_type": "code",
      "metadata": {
        "id": "8QKip3E8RdTZ",
        "colab_type": "code",
        "colab": {}
      },
      "source": [
        "from sklearn.model_selection import train_test_split\n",
        "from sklearn.linear_model import LinearRegression"
      ],
      "execution_count": null,
      "outputs": []
    },
    {
      "cell_type": "code",
      "metadata": {
        "id": "M2D7S5YQRdcS",
        "colab_type": "code",
        "colab": {}
      },
      "source": [
        "yy=data.iloc[:,8]\n",
        "xx=data.iloc[:,0:8]\n",
        "xx_train,xx_test,yy_train,yy_test=train_test_split(xx,yy,test_size=0.2,random_state=0)"
      ],
      "execution_count": null,
      "outputs": []
    },
    {
      "cell_type": "code",
      "metadata": {
        "id": "B0p27p3MRdYx",
        "colab_type": "code",
        "colab": {
          "base_uri": "https://localhost:8080/"
        },
        "outputId": "7d60d5ce-3035-425a-a15e-cb98a29240b3"
      },
      "source": [
        "linear_regression=LinearRegression()\n",
        "linear_regression.fit(xx_train,yy_train)\n",
        "yy_pred=linear_regression.predict(xx_test)\n",
        "print(\"THE MODEL SCORE OF THE MODEL IS :\\n\",linear_regression.score(xx_test,yy_test))"
      ],
      "execution_count": null,
      "outputs": [
        {
          "output_type": "stream",
          "text": [
            "THE MODEL SCORE OF THE MODEL IS :\n",
            " 0.9217010532718792\n"
          ],
          "name": "stdout"
        }
      ]
    },
    {
      "cell_type": "markdown",
      "metadata": {
        "id": "e7p0jv5NSkme",
        "colab_type": "text"
      },
      "source": [
        "* USING KNEIGHBOR CLASSIFIER"
      ]
    },
    {
      "cell_type": "code",
      "metadata": {
        "id": "I7H7EzkURdK0",
        "colab_type": "code",
        "colab": {}
      },
      "source": [
        "from sklearn.model_selection import train_test_split\n",
        "from sklearn.neighbors import KNeighborsClassifier"
      ],
      "execution_count": null,
      "outputs": []
    },
    {
      "cell_type": "code",
      "metadata": {
        "id": "UjYLqo2LTCcI",
        "colab_type": "code",
        "colab": {}
      },
      "source": [
        "yyy=data.iloc[:,8]\n",
        "xxx=data.iloc[:,0:8]\n",
        "xxx_train,xxx_test,yyy_train,yyy_test=train_test_split(xxx,yyy,test_size=0.2,random_state=0)"
      ],
      "execution_count": null,
      "outputs": []
    },
    {
      "cell_type": "code",
      "metadata": {
        "id": "Uw38S34aTCZd",
        "colab_type": "code",
        "colab": {
          "base_uri": "https://localhost:8080/"
        },
        "outputId": "3c73f89a-a29e-4e29-bd88-9619134a8e26"
      },
      "source": [
        "classifier_knn=KNeighborsClassifier(n_neighbors=3)   \n",
        "classifier_knn.fit(xxx_train,yyy_train)\n",
        "yyy_pred=classifier_knn.predict(xxx_test)\n",
        "print(\"THE MODEL SCORE OF THE MODEL IS :\\n\",classifier_knn.score(xxx_test,yyy_test))"
      ],
      "execution_count": null,
      "outputs": [
        {
          "output_type": "stream",
          "text": [
            "THE MODEL SCORE OF THE MODEL IS :\n",
            " 0.7787465940054495\n"
          ],
          "name": "stdout"
        }
      ]
    },
    {
      "cell_type": "markdown",
      "metadata": {
        "id": "CmclYaDhUAGL",
        "colab_type": "text"
      },
      "source": [
        "* HENCE WE CAN SEE THAT RANDOM FOREST IS BETTER THAN OTHER ALGORITHMS FOR THIS PROJECT"
      ]
    },
    {
      "cell_type": "markdown",
      "metadata": {
        "id": "eBL0r_gmB-Jx",
        "colab_type": "text"
      },
      "source": [
        "RANDOM FOREST REGRESSION IS BETTER BECAUSE;\n",
        "* IT HANDLES HIGH_DIMENSIONALITY VERY WELL SINCE IT TAKES SUBSETS OF DATA.\n",
        "* IT IS EXTREMELY VERSATILE AND REQUIRES VERY LITTLE PREPROCESSING.\n",
        "* IT IS GREAT AT AVOIDING OVERFITTING SINCE EACH DECISION TRESS HAS LOW BIAS."
      ]
    },
    {
      "cell_type": "markdown",
      "metadata": {
        "id": "KH6fFHQDU5-a",
        "colab_type": "text"
      },
      "source": [
        "## 10 - PERFORMANCE CHECK"
      ]
    },
    {
      "cell_type": "markdown",
      "metadata": {
        "id": "mzcpEKE5AMbV",
        "colab_type": "text"
      },
      "source": [
        "* **MEAN OF THE MODEL**"
      ]
    },
    {
      "cell_type": "code",
      "metadata": {
        "id": "5F6Ibe_oAEZS",
        "colab_type": "code",
        "colab": {
          "base_uri": "https://localhost:8080/"
        },
        "outputId": "84532806-dec4-4d7c-ea14-f801d7840add"
      },
      "source": [
        "print(\"THE MEAN PRICE OF THE MODEL IS:\\n\",round(data['Price'].mean(),2))"
      ],
      "execution_count": null,
      "outputs": [
        {
          "output_type": "stream",
          "text": [
            "THE MEAN PRICE OF THE MODEL IS:\n",
            " 29656.22\n"
          ],
          "name": "stdout"
        }
      ]
    },
    {
      "cell_type": "markdown",
      "metadata": {
        "id": "4-jTz3eWUyHu",
        "colab_type": "text"
      },
      "source": [
        "* THE MEAN SQUARED ERROR (MSE) MEASURES THE AVERAGE OF THE SQUARES OF ERRORS - THAT IS, THE AVERAGE SQUARED DIFFERENCE BETWEEN THE ESTIMATED VALUES AND THE ACTUAL VALUES."
      ]
    },
    {
      "cell_type": "markdown",
      "metadata": {
        "id": "Sp4zokMUVKaE",
        "colab_type": "text"
      },
      "source": [
        "* ROOT MEAN SQUARED ERROR CORRESPONDS TO THE AVERAGE DIFFERENCE BETWEEN THE OBSERVED KNOWN VALUES OF THE OUTCOME AND THE PREDICTED VALUES BY THE MODEL.\n",
        "* LOWER THE VALUE, BETTER THE MODEL"
      ]
    },
    {
      "cell_type": "markdown",
      "metadata": {
        "id": "CM6kaBkJVNSP",
        "colab_type": "text"
      },
      "source": [
        "* R-SQUARED EVALUATES THE SCATTER OF THE DATA POINTS AROUND THE FITTED REGRESSION.\n",
        "* ASLO CALLED COEFFICIENT OF DETERMINATION/MULTIPLE DETERMINATION.\n",
        "* HIGHER THE VALUE REPRESENTS SMALLER DIFFERENCES BETWEEN THE OBSERVED DATA ABD THE FITTED VALUES."
      ]
    },
    {
      "cell_type": "code",
      "metadata": {
        "id": "nXW3t8_1VJAI",
        "colab_type": "code",
        "colab": {}
      },
      "source": [
        "from sklearn.metrics import mean_absolute_error\n",
        "from sklearn.metrics import r2_score,mean_squared_error\n",
        "from sklearn import metrics"
      ],
      "execution_count": null,
      "outputs": []
    },
    {
      "cell_type": "markdown",
      "metadata": {
        "id": "gYtbiNuKB68A",
        "colab_type": "text"
      },
      "source": [
        "* **USING RANDOM FOREST REGRESSION**"
      ]
    },
    {
      "cell_type": "code",
      "metadata": {
        "id": "7-w1qNvQh13o",
        "colab_type": "code",
        "colab": {
          "base_uri": "https://localhost:8080/"
        },
        "outputId": "803b640f-1f4d-47d1-94f4-d19ff72507c1"
      },
      "source": [
        "print(\"THE MEAN SQUARED ERROR IS :\\n\",metrics.mean_absolute_error(y_test, pred))\n",
        "print(\"ROOT MEAN SQUARE ERROR IS :\\n\",np.sqrt(metrics.mean_squared_error(y_test,pred)))\n",
        "print(\"R-SQUARED SCORE IS :\\n\",metrics.r2_score(y_test,pred))"
      ],
      "execution_count": null,
      "outputs": [
        {
          "output_type": "stream",
          "text": [
            "THE MEAN SQUARED ERROR IS :\n",
            " 0.23515058137846623\n",
            "ROOT MEAN SQUARE ERROR IS :\n",
            " 0.5175115362543838\n",
            "R-SQUARED SCORE IS :\n",
            " 0.9867151998797598\n"
          ],
          "name": "stdout"
        }
      ]
    },
    {
      "cell_type": "markdown",
      "metadata": {
        "id": "d4fBXZY_uKh-",
        "colab_type": "text"
      },
      "source": [
        "*  **USING LINEAR REGRESSION**"
      ]
    },
    {
      "cell_type": "code",
      "metadata": {
        "id": "sYZrEmkt_TtH",
        "colab_type": "code",
        "colab": {
          "base_uri": "https://localhost:8080/"
        },
        "outputId": "722170f9-c009-4459-f116-c3b22574ead0"
      },
      "source": [
        "print(\"THE MEAN SQUARED ERROR IS :\\n\",metrics.mean_absolute_error(yy_test,yy_pred))\n",
        "print(\"ROOT MEAN SQUARE ERROR IS :\\n\",np.sqrt(metrics.mean_squared_error(yy_test,yy_pred)))\n",
        "print(\"R-SQUARED SCORE IS :\\n\",metrics.r2_score(yy_test,yy_pred))"
      ],
      "execution_count": null,
      "outputs": [
        {
          "output_type": "stream",
          "text": [
            "THE MEAN SQUARED ERROR IS :\n",
            " 0.9070058285811458\n",
            "ROOT MEAN SQUARE ERROR IS :\n",
            " 1.2525141681776024\n",
            "R-SQUARED SCORE IS :\n",
            " 0.9217010532718791\n"
          ],
          "name": "stdout"
        }
      ]
    },
    {
      "cell_type": "markdown",
      "metadata": {
        "id": "DEnzoLmu_gTu",
        "colab_type": "text"
      },
      "source": [
        "* **USING LOGISTIC REGRESSION**"
      ]
    },
    {
      "cell_type": "code",
      "metadata": {
        "id": "fJLZIjoy_f1l",
        "colab_type": "code",
        "colab": {
          "base_uri": "https://localhost:8080/"
        },
        "outputId": "2f3c77e0-c4b3-4b70-ae22-afc2fa11b26f"
      },
      "source": [
        "print(\"THE MEAN SQUARED ERROR IS :\\n\",metrics.mean_absolute_error(Y_test,Y_pred))\n",
        "print(\"ROOT MEAN SQUARE ERROR IS :\\n\",np.sqrt(metrics.mean_squared_error(Y_test,Y_pred)))\n",
        "print(\"R-SQUARED SCORE IS :\\n\",metrics.r2_score(Y_test,Y_pred))"
      ],
      "execution_count": null,
      "outputs": [
        {
          "output_type": "stream",
          "text": [
            "THE MEAN SQUARED ERROR IS :\n",
            " 1.9122615803814713\n",
            "ROOT MEAN SQUARE ERROR IS :\n",
            " 2.6075764688445733\n",
            "R-SQUARED SCORE IS :\n",
            " 0.6606368111542226\n"
          ],
          "name": "stdout"
        }
      ]
    },
    {
      "cell_type": "markdown",
      "metadata": {
        "id": "pweYC1Bh_j18",
        "colab_type": "text"
      },
      "source": [
        "* **USING KNEIGHBOR CLASSIFIER**"
      ]
    },
    {
      "cell_type": "code",
      "metadata": {
        "id": "Wv0rMLcQ_ffI",
        "colab_type": "code",
        "colab": {
          "base_uri": "https://localhost:8080/"
        },
        "outputId": "c3fdb919-213c-4535-9482-4da4a4da2df0"
      },
      "source": [
        "print(\"THE MEAN SQUARED ERROR IS :\\n\",metrics.mean_absolute_error(yyy_test,yyy_pred))\n",
        "print(\"ROOT MEAN SQUARE ERROR IS :\\n\",np.sqrt(metrics.mean_squared_error(yyy_test,yyy_pred)))\n",
        "print(\"R-SQUARED SCORE IS :\\n\",metrics.r2_score(yyy_test,yyy_pred))"
      ],
      "execution_count": null,
      "outputs": [
        {
          "output_type": "stream",
          "text": [
            "THE MEAN SQUARED ERROR IS :\n",
            " 0.35858310626703\n",
            "ROOT MEAN SQUARE ERROR IS :\n",
            " 0.9413307294645875\n",
            "R-SQUARED SCORE IS :\n",
            " 0.9557742610352461\n"
          ],
          "name": "stdout"
        }
      ]
    },
    {
      "cell_type": "markdown",
      "metadata": {
        "id": "75FM-u7RL7Gp",
        "colab_type": "text"
      },
      "source": [
        "RANDOMFOREST GIVES A BETTER PERFORMANCE OVER METRICS COMPARED TO OTHER ALGORITHMS"
      ]
    }
  ]
}